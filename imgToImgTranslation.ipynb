{
 "cells": [
  {
   "cell_type": "code",
   "execution_count": 58,
   "metadata": {},
   "outputs": [],
   "source": [
    "import tensorflow as tf\n",
    "\n",
    "import os\n",
    "import pathlib\n",
    "import time\n",
    "import datetime\n",
    "\n",
    "from keras import layers\n",
    "from matplotlib import pyplot as plt\n",
    "from IPython import display"
   ]
  },
  {
   "cell_type": "markdown",
   "metadata": {},
   "source": [
    "### Path to Dataset"
   ]
  },
  {
   "cell_type": "code",
   "execution_count": 59,
   "metadata": {},
   "outputs": [
    {
     "name": "stdout",
     "output_type": "stream",
     "text": [
      "dataset\\colored\n",
      "dataset\\grayscaled\n",
      "dataset\\test\n"
     ]
    }
   ],
   "source": [
    "dataset_path = pathlib.Path(\n",
    "    \"./dataset\"\n",
    ")\n",
    "\n",
    "for folder in dataset_path.iterdir():\n",
    "    print(folder)\n",
    "\n",
    "# Path to colored and grayscaled image folders\n",
    "colored_path = dataset_path / \"colored\"\n",
    "grayscaled_path = dataset_path / \"grayscaled\""
   ]
  },
  {
   "cell_type": "markdown",
   "metadata": {},
   "source": [
    "### Fetch a sample image from the colored folder"
   ]
  },
  {
   "cell_type": "code",
   "execution_count": 60,
   "metadata": {},
   "outputs": [
    {
     "name": "stdout",
     "output_type": "stream",
     "text": [
      "dataset\\colored\\10.jpg\n"
     ]
    },
    {
     "data": {
      "text/plain": [
       "<Figure size 640x480 with 0 Axes>"
      ]
     },
     "execution_count": 60,
     "metadata": {},
     "output_type": "execute_result"
    },
    {
     "data": {
      "text/plain": [
       "<Figure size 640x480 with 0 Axes>"
      ]
     },
     "metadata": {},
     "output_type": "display_data"
    }
   ],
   "source": [
    "sample_colored_image = list(colored_path.glob(\"*\"))[0]\n",
    "print(sample_colored_image)\n",
    "image = tf.io.read_file(str(sample_colored_image))\n",
    "image = tf.image.decode_image(image)\n",
    "plt.figure()\n",
    "# plt.imshow(image)\n",
    "# plt.title(\"Sample Colored Image\")\n",
    "# plt.show()"
   ]
  },
  {
   "cell_type": "markdown",
   "metadata": {},
   "source": [
    "### Fetch a sample image from the grayscaled folder"
   ]
  },
  {
   "cell_type": "code",
   "execution_count": 77,
   "metadata": {},
   "outputs": [
    {
     "name": "stdout",
     "output_type": "stream",
     "text": [
      "dataset\\grayscaled\\10.jpg\n"
     ]
    }
   ],
   "source": [
    "sample_grayscaled_image = list(grayscaled_path.glob(\"*\"))[0]  # Fetch the first image\n",
    "print(sample_grayscaled_image)\n",
    "image = tf.io.read_file(str(sample_grayscaled_image))\n",
    "image = tf.image.decode_image(image)\n",
    "# plt.figure()\n",
    "# plt.imshow(image, cmap=\"gray\")\n",
    "# plt.title(\"Sample Grayscaled Image\")\n",
    "# plt.show()"
   ]
  },
  {
   "cell_type": "markdown",
   "metadata": {},
   "source": [
    "### Loading the files and normalizing"
   ]
  },
  {
   "cell_type": "code",
   "execution_count": 89,
   "metadata": {},
   "outputs": [],
   "source": [
    "def load(input_image_file, real_image_file):\n",
    "    input_image = tf.io.read_file(input_image_file)\n",
    "    input_image = tf.image.decode_jpeg(input_image)\n",
    "    input_image = tf.cast(input_image, tf.float32)\n",
    "\n",
    "    real_image = tf.io.read_file(real_image_file)\n",
    "    real_image = tf.image.decode_jpeg(real_image)\n",
    "    real_image = tf.cast(real_image, tf.float32)\n",
    "\n",
    "    input_image = (input_image / 255.0)\n",
    "    real_image = (real_image / 255.0)\n",
    "\n",
    "    return input_image, real_image\n",
    "\n",
    "\n",
    "# Tesing Load input and real images \n",
    "input_image, real_image = load(\"./dataset/grayscaled/10.jpg\", \"./dataset/colored/10.jpg\")"
   ]
  },
  {
   "cell_type": "markdown",
   "metadata": {},
   "source": [
    "### Cast images for visualization"
   ]
  },
  {
   "cell_type": "code",
   "execution_count": 91,
   "metadata": {},
   "outputs": [],
   "source": [
    "# Plot the images\n",
    "# plt.figure()\n",
    "# plt.imshow(input_image, cmap=\"gray\")\n",
    "# plt.title(\"Input Image\")\n",
    "# plt.show()\n",
    "\n",
    "# plt.figure()\n",
    "# plt.imshow(real_image)\n",
    "# plt.title(\"Real Image\")\n",
    "# plt.show()"
   ]
  },
  {
   "cell_type": "markdown",
   "metadata": {},
   "source": [
    "### Skipping the \"As described in the [pix2pix](https://arxiv.org/abs/1611.07004) paper, you need to apply random jittering and mirroring to preprocess the training set.\" part of preprocessing"
   ]
  },
  {
   "cell_type": "markdown",
   "metadata": {},
   "source": [
    "### Fetch the file paths for grayscale and colored images\n"
   ]
  },
  {
   "cell_type": "code",
   "execution_count": 84,
   "metadata": {},
   "outputs": [],
   "source": [
    "grayscale_images = tf.data.Dataset.list_files(\"./dataset/grayscaled/*.jpg\")\n",
    "colored_images = tf.data.Dataset.list_files(\"./dataset/colored/*.jpg\")\n",
    "\n",
    "paired_images = tf.data.Dataset.zip((grayscale_images, colored_images))\n",
    "paired_images = paired_images.map(load)\n",
    "\n",
    "BATCH_SIZE = 32\n",
    "# Adjust buffer size as needed for shuffling (atleast > than your len(dataset)) in my case I have 5709 colored and grayscale images\n",
    "BUFFER_SIZE = 6000  \n",
    "paired_images = paired_images.shuffle(BUFFER_SIZE)\n",
    "paired_images = paired_images.batch(BATCH_SIZE)"
   ]
  },
  {
   "cell_type": "code",
   "execution_count": null,
   "metadata": {},
   "outputs": [],
   "source": []
  }
 ],
 "metadata": {
  "kernelspec": {
   "display_name": "Python 3",
   "language": "python",
   "name": "python3"
  },
  "language_info": {
   "codemirror_mode": {
    "name": "ipython",
    "version": 3
   },
   "file_extension": ".py",
   "mimetype": "text/x-python",
   "name": "python",
   "nbconvert_exporter": "python",
   "pygments_lexer": "ipython3",
   "version": "3.11.0"
  }
 },
 "nbformat": 4,
 "nbformat_minor": 2
}
